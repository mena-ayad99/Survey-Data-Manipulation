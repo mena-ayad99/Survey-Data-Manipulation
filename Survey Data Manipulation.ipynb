{
 "metadata": {
  "language_info": {
   "codemirror_mode": {
    "name": "ipython",
    "version": 3
   },
   "file_extension": ".py",
   "mimetype": "text/x-python",
   "name": "python",
   "nbconvert_exporter": "python",
   "pygments_lexer": "ipython3",
   "version": "3.9.5"
  },
  "orig_nbformat": 4,
  "kernelspec": {
   "name": "python3",
   "display_name": "Python 3.9.5 64-bit ('min_data': conda)"
  },
  "interpreter": {
   "hash": "4a0a83bf01774e171d39f0d863f3bab2204255c16f6fc08db316d414c2ccf613"
  }
 },
 "nbformat": 4,
 "nbformat_minor": 2,
 "cells": [
  {
   "cell_type": "code",
   "execution_count": 1,
   "metadata": {},
   "outputs": [],
   "source": [
    "import pandas as pd \n",
    "import os"
   ]
  },
  {
   "cell_type": "code",
   "execution_count": 2,
   "metadata": {},
   "outputs": [],
   "source": [
    "pwd = os.getcwd()"
   ]
  },
  {
   "cell_type": "code",
   "execution_count": 4,
   "metadata": {},
   "outputs": [],
   "source": [
    "dataframe = pd.read_excel(pwd + '//data/Data - Survey Monkey edited.xlsx')\n"
   ]
  },
  {
   "cell_type": "code",
   "execution_count": 5,
   "metadata": {},
   "outputs": [
    {
     "output_type": "execute_result",
     "data": {
      "text/plain": [
       "     Respondent ID       Division response Other devision   Position level  \\\n",
       "0       5379192392          Infrastructure            NaN            Staff   \n",
       "1       2658722536                 Finance            NaN            Staff   \n",
       "2       4044163394          Infrastructure            NaN  Department Lead   \n",
       "3       5535865599          Infrastructure            NaN          Manager   \n",
       "4       3356802928         Port Operations            NaN          Manager   \n",
       "..             ...                     ...            ...              ...   \n",
       "193     7940065082          Infrastructure            NaN  Department Lead   \n",
       "194     5157705612                 Finance            NaN            Staff   \n",
       "195     9920755555         Port Operations            NaN            Staff   \n",
       "196     6638341389          Infrastructure            NaN          Manager   \n",
       "197     8114622230  Information Technology            NaN            Staff   \n",
       "\n",
       "                                Generation      Gender      Tenure  \\\n",
       "0    Generation X (born between 1965-1980)        Male   0-2 years   \n",
       "1                                      NaN         NaN   10+ years   \n",
       "2    Generation X (born between 1965-1980)        Male   3-5 years   \n",
       "3      Millennial (born between 1981-2000)  Non-Binary  5-10 years   \n",
       "4    Generation X (born between 1965-1980)      Female   10+ years   \n",
       "..                                     ...         ...         ...   \n",
       "193   Baby Boomer (born between 1946-1964)        Male   10+ years   \n",
       "194    Millennial (born between 1981-2000)      Female  5-10 years   \n",
       "195    Millennial (born between 1981-2000)      Female   3-5 years   \n",
       "196    Millennial (born between 1981-2000)      Female   3-5 years   \n",
       "197                   Prefer not to answer        Male  5-10 years   \n",
       "\n",
       "        Employment type Question 1, Response Question 2, Response  ...  \\\n",
       "0    Full time Employee                  NaN             Answer 6  ...   \n",
       "1    Full time Employee             Answer 4             Answer 2  ...   \n",
       "2    Full time Employee             Answer 5             Answer 7  ...   \n",
       "3    Full time Employee             Answer 1             Answer 1  ...   \n",
       "4    Full time Employee                  NaN             Answer 3  ...   \n",
       "..                  ...                  ...                  ...  ...   \n",
       "193  Full time Employee             Answer 3                  NaN  ...   \n",
       "194  Full time Employee                  NaN                  NaN  ...   \n",
       "195  Full time Employee                  NaN             Answer 7  ...   \n",
       "196  Full time Employee                  NaN                  NaN  ...   \n",
       "197  Full time Employee                  NaN             Answer 1  ...   \n",
       "\n",
       "    Question 29, Response 8 Question 29, Response 9 Question 29, Response 10  \\\n",
       "0                       NaN                Answer 8                 Answer 8   \n",
       "1                       NaN                Answer 5                      NaN   \n",
       "2                       NaN                     NaN                 Answer 4   \n",
       "3                  Answer 2                Answer 5                 Answer 7   \n",
       "4                       NaN                Answer 5                 Answer 4   \n",
       "..                      ...                     ...                      ...   \n",
       "193                Answer 1                Answer 1                 Answer 3   \n",
       "194                Answer 5                     NaN                 Answer 5   \n",
       "195                     NaN                Answer 7                      NaN   \n",
       "196                Answer 2                     NaN                 Answer 3   \n",
       "197                Answer 3                     NaN                 Answer 7   \n",
       "\n",
       "    Question 29, Response 11 Question 29, Response 12  \\\n",
       "0                   Answer 4                      NaN   \n",
       "1                        NaN                 Answer 2   \n",
       "2                   Answer 4                 Answer 6   \n",
       "3                        NaN                 Answer 6   \n",
       "4                   Answer 4                 Answer 7   \n",
       "..                       ...                      ...   \n",
       "193                 Answer 6                 Answer 6   \n",
       "194                      NaN                      NaN   \n",
       "195                      NaN                      NaN   \n",
       "196                 Answer 5                      NaN   \n",
       "197                      NaN                      NaN   \n",
       "\n",
       "    Question 29, Response 13 Question 29, Response 14 Question 30, Response 1  \\\n",
       "0                        NaN                 Answer 5                     NaN   \n",
       "1                        NaN                 Answer 5                     NaN   \n",
       "2                        NaN                 Answer 6                     NaN   \n",
       "3                        NaN                 Answer 7                Answer 7   \n",
       "4                   Answer 7                      NaN                Answer 7   \n",
       "..                       ...                      ...                     ...   \n",
       "193                 Answer 8                      NaN                     NaN   \n",
       "194                 Answer 2                      NaN                     NaN   \n",
       "195                      NaN                      NaN                     NaN   \n",
       "196                 Answer 8                 Answer 3                Answer 3   \n",
       "197                      NaN                      NaN                Answer 3   \n",
       "\n",
       "    Question 30, Response 2 Question 30, Response 3  \n",
       "0                       NaN                     NaN  \n",
       "1                       NaN                Answer 1  \n",
       "2                  Answer 1                     NaN  \n",
       "3                  Answer 1                Answer 6  \n",
       "4                       NaN                Answer 8  \n",
       "..                      ...                     ...  \n",
       "193                     NaN                Answer 8  \n",
       "194                     NaN                Answer 6  \n",
       "195                Answer 3                     NaN  \n",
       "196                     NaN                     NaN  \n",
       "197                     NaN                     NaN  \n",
       "\n",
       "[198 rows x 94 columns]"
      ],
      "text/html": "<div>\n<style scoped>\n    .dataframe tbody tr th:only-of-type {\n        vertical-align: middle;\n    }\n\n    .dataframe tbody tr th {\n        vertical-align: top;\n    }\n\n    .dataframe thead th {\n        text-align: right;\n    }\n</style>\n<table border=\"1\" class=\"dataframe\">\n  <thead>\n    <tr style=\"text-align: right;\">\n      <th></th>\n      <th>Respondent ID</th>\n      <th>Division response</th>\n      <th>Other devision</th>\n      <th>Position level</th>\n      <th>Generation</th>\n      <th>Gender</th>\n      <th>Tenure</th>\n      <th>Employment type</th>\n      <th>Question 1, Response</th>\n      <th>Question 2, Response</th>\n      <th>...</th>\n      <th>Question 29, Response 8</th>\n      <th>Question 29, Response 9</th>\n      <th>Question 29, Response 10</th>\n      <th>Question 29, Response 11</th>\n      <th>Question 29, Response 12</th>\n      <th>Question 29, Response 13</th>\n      <th>Question 29, Response 14</th>\n      <th>Question 30, Response 1</th>\n      <th>Question 30, Response 2</th>\n      <th>Question 30, Response 3</th>\n    </tr>\n  </thead>\n  <tbody>\n    <tr>\n      <th>0</th>\n      <td>5379192392</td>\n      <td>Infrastructure</td>\n      <td>NaN</td>\n      <td>Staff</td>\n      <td>Generation X (born between 1965-1980)</td>\n      <td>Male</td>\n      <td>0-2 years</td>\n      <td>Full time Employee</td>\n      <td>NaN</td>\n      <td>Answer 6</td>\n      <td>...</td>\n      <td>NaN</td>\n      <td>Answer 8</td>\n      <td>Answer 8</td>\n      <td>Answer 4</td>\n      <td>NaN</td>\n      <td>NaN</td>\n      <td>Answer 5</td>\n      <td>NaN</td>\n      <td>NaN</td>\n      <td>NaN</td>\n    </tr>\n    <tr>\n      <th>1</th>\n      <td>2658722536</td>\n      <td>Finance</td>\n      <td>NaN</td>\n      <td>Staff</td>\n      <td>NaN</td>\n      <td>NaN</td>\n      <td>10+ years</td>\n      <td>Full time Employee</td>\n      <td>Answer 4</td>\n      <td>Answer 2</td>\n      <td>...</td>\n      <td>NaN</td>\n      <td>Answer 5</td>\n      <td>NaN</td>\n      <td>NaN</td>\n      <td>Answer 2</td>\n      <td>NaN</td>\n      <td>Answer 5</td>\n      <td>NaN</td>\n      <td>NaN</td>\n      <td>Answer 1</td>\n    </tr>\n    <tr>\n      <th>2</th>\n      <td>4044163394</td>\n      <td>Infrastructure</td>\n      <td>NaN</td>\n      <td>Department Lead</td>\n      <td>Generation X (born between 1965-1980)</td>\n      <td>Male</td>\n      <td>3-5 years</td>\n      <td>Full time Employee</td>\n      <td>Answer 5</td>\n      <td>Answer 7</td>\n      <td>...</td>\n      <td>NaN</td>\n      <td>NaN</td>\n      <td>Answer 4</td>\n      <td>Answer 4</td>\n      <td>Answer 6</td>\n      <td>NaN</td>\n      <td>Answer 6</td>\n      <td>NaN</td>\n      <td>Answer 1</td>\n      <td>NaN</td>\n    </tr>\n    <tr>\n      <th>3</th>\n      <td>5535865599</td>\n      <td>Infrastructure</td>\n      <td>NaN</td>\n      <td>Manager</td>\n      <td>Millennial (born between 1981-2000)</td>\n      <td>Non-Binary</td>\n      <td>5-10 years</td>\n      <td>Full time Employee</td>\n      <td>Answer 1</td>\n      <td>Answer 1</td>\n      <td>...</td>\n      <td>Answer 2</td>\n      <td>Answer 5</td>\n      <td>Answer 7</td>\n      <td>NaN</td>\n      <td>Answer 6</td>\n      <td>NaN</td>\n      <td>Answer 7</td>\n      <td>Answer 7</td>\n      <td>Answer 1</td>\n      <td>Answer 6</td>\n    </tr>\n    <tr>\n      <th>4</th>\n      <td>3356802928</td>\n      <td>Port Operations</td>\n      <td>NaN</td>\n      <td>Manager</td>\n      <td>Generation X (born between 1965-1980)</td>\n      <td>Female</td>\n      <td>10+ years</td>\n      <td>Full time Employee</td>\n      <td>NaN</td>\n      <td>Answer 3</td>\n      <td>...</td>\n      <td>NaN</td>\n      <td>Answer 5</td>\n      <td>Answer 4</td>\n      <td>Answer 4</td>\n      <td>Answer 7</td>\n      <td>Answer 7</td>\n      <td>NaN</td>\n      <td>Answer 7</td>\n      <td>NaN</td>\n      <td>Answer 8</td>\n    </tr>\n    <tr>\n      <th>...</th>\n      <td>...</td>\n      <td>...</td>\n      <td>...</td>\n      <td>...</td>\n      <td>...</td>\n      <td>...</td>\n      <td>...</td>\n      <td>...</td>\n      <td>...</td>\n      <td>...</td>\n      <td>...</td>\n      <td>...</td>\n      <td>...</td>\n      <td>...</td>\n      <td>...</td>\n      <td>...</td>\n      <td>...</td>\n      <td>...</td>\n      <td>...</td>\n      <td>...</td>\n      <td>...</td>\n    </tr>\n    <tr>\n      <th>193</th>\n      <td>7940065082</td>\n      <td>Infrastructure</td>\n      <td>NaN</td>\n      <td>Department Lead</td>\n      <td>Baby Boomer (born between 1946-1964)</td>\n      <td>Male</td>\n      <td>10+ years</td>\n      <td>Full time Employee</td>\n      <td>Answer 3</td>\n      <td>NaN</td>\n      <td>...</td>\n      <td>Answer 1</td>\n      <td>Answer 1</td>\n      <td>Answer 3</td>\n      <td>Answer 6</td>\n      <td>Answer 6</td>\n      <td>Answer 8</td>\n      <td>NaN</td>\n      <td>NaN</td>\n      <td>NaN</td>\n      <td>Answer 8</td>\n    </tr>\n    <tr>\n      <th>194</th>\n      <td>5157705612</td>\n      <td>Finance</td>\n      <td>NaN</td>\n      <td>Staff</td>\n      <td>Millennial (born between 1981-2000)</td>\n      <td>Female</td>\n      <td>5-10 years</td>\n      <td>Full time Employee</td>\n      <td>NaN</td>\n      <td>NaN</td>\n      <td>...</td>\n      <td>Answer 5</td>\n      <td>NaN</td>\n      <td>Answer 5</td>\n      <td>NaN</td>\n      <td>NaN</td>\n      <td>Answer 2</td>\n      <td>NaN</td>\n      <td>NaN</td>\n      <td>NaN</td>\n      <td>Answer 6</td>\n    </tr>\n    <tr>\n      <th>195</th>\n      <td>9920755555</td>\n      <td>Port Operations</td>\n      <td>NaN</td>\n      <td>Staff</td>\n      <td>Millennial (born between 1981-2000)</td>\n      <td>Female</td>\n      <td>3-5 years</td>\n      <td>Full time Employee</td>\n      <td>NaN</td>\n      <td>Answer 7</td>\n      <td>...</td>\n      <td>NaN</td>\n      <td>Answer 7</td>\n      <td>NaN</td>\n      <td>NaN</td>\n      <td>NaN</td>\n      <td>NaN</td>\n      <td>NaN</td>\n      <td>NaN</td>\n      <td>Answer 3</td>\n      <td>NaN</td>\n    </tr>\n    <tr>\n      <th>196</th>\n      <td>6638341389</td>\n      <td>Infrastructure</td>\n      <td>NaN</td>\n      <td>Manager</td>\n      <td>Millennial (born between 1981-2000)</td>\n      <td>Female</td>\n      <td>3-5 years</td>\n      <td>Full time Employee</td>\n      <td>NaN</td>\n      <td>NaN</td>\n      <td>...</td>\n      <td>Answer 2</td>\n      <td>NaN</td>\n      <td>Answer 3</td>\n      <td>Answer 5</td>\n      <td>NaN</td>\n      <td>Answer 8</td>\n      <td>Answer 3</td>\n      <td>Answer 3</td>\n      <td>NaN</td>\n      <td>NaN</td>\n    </tr>\n    <tr>\n      <th>197</th>\n      <td>8114622230</td>\n      <td>Information Technology</td>\n      <td>NaN</td>\n      <td>Staff</td>\n      <td>Prefer not to answer</td>\n      <td>Male</td>\n      <td>5-10 years</td>\n      <td>Full time Employee</td>\n      <td>NaN</td>\n      <td>Answer 1</td>\n      <td>...</td>\n      <td>Answer 3</td>\n      <td>NaN</td>\n      <td>Answer 7</td>\n      <td>NaN</td>\n      <td>NaN</td>\n      <td>NaN</td>\n      <td>NaN</td>\n      <td>Answer 3</td>\n      <td>NaN</td>\n      <td>NaN</td>\n    </tr>\n  </tbody>\n</table>\n<p>198 rows × 94 columns</p>\n</div>"
     },
     "metadata": {},
     "execution_count": 5
    }
   ],
   "source": [
    "# cleaning the unneeded columns\n",
    "dataframe.drop(columns=['Start Date', 'End Date'], inplace=True)\n",
    "dataframe"
   ]
  },
  {
   "cell_type": "code",
   "execution_count": 6,
   "metadata": {},
   "outputs": [],
   "source": [
    "df = dataframe.copy()\n",
    "\n",
    "#creating id and value variables\n",
    "id_var = list(df.columns)[:8]\n",
    "value_var = list(df.columns)[8:]"
   ]
  },
  {
   "cell_type": "code",
   "execution_count": 7,
   "metadata": {},
   "outputs": [
    {
     "output_type": "execute_result",
     "data": {
      "text/plain": [
       "       Respondent ID       Division response Other devision   Position level  \\\n",
       "0         5379192392          Infrastructure            NaN            Staff   \n",
       "1         2658722536                 Finance            NaN            Staff   \n",
       "2         4044163394          Infrastructure            NaN  Department Lead   \n",
       "3         5535865599          Infrastructure            NaN          Manager   \n",
       "4         3356802928         Port Operations            NaN          Manager   \n",
       "...              ...                     ...            ...              ...   \n",
       "17023     7940065082          Infrastructure            NaN  Department Lead   \n",
       "17024     5157705612                 Finance            NaN            Staff   \n",
       "17025     9920755555         Port Operations            NaN            Staff   \n",
       "17026     6638341389          Infrastructure            NaN          Manager   \n",
       "17027     8114622230  Information Technology            NaN            Staff   \n",
       "\n",
       "                                  Generation      Gender      Tenure  \\\n",
       "0      Generation X (born between 1965-1980)        Male   0-2 years   \n",
       "1                                        NaN         NaN   10+ years   \n",
       "2      Generation X (born between 1965-1980)        Male   3-5 years   \n",
       "3        Millennial (born between 1981-2000)  Non-Binary  5-10 years   \n",
       "4      Generation X (born between 1965-1980)      Female   10+ years   \n",
       "...                                      ...         ...         ...   \n",
       "17023   Baby Boomer (born between 1946-1964)        Male   10+ years   \n",
       "17024    Millennial (born between 1981-2000)      Female  5-10 years   \n",
       "17025    Millennial (born between 1981-2000)      Female   3-5 years   \n",
       "17026    Millennial (born between 1981-2000)      Female   3-5 years   \n",
       "17027                   Prefer not to answer        Male  5-10 years   \n",
       "\n",
       "          Employment type   Question & Subquestion    Answer  \n",
       "0      Full time Employee     Question 1, Response       NaN  \n",
       "1      Full time Employee     Question 1, Response  Answer 4  \n",
       "2      Full time Employee     Question 1, Response  Answer 5  \n",
       "3      Full time Employee     Question 1, Response  Answer 1  \n",
       "4      Full time Employee     Question 1, Response       NaN  \n",
       "...                   ...                      ...       ...  \n",
       "17023  Full time Employee  Question 30, Response 3  Answer 8  \n",
       "17024  Full time Employee  Question 30, Response 3  Answer 6  \n",
       "17025  Full time Employee  Question 30, Response 3       NaN  \n",
       "17026  Full time Employee  Question 30, Response 3       NaN  \n",
       "17027  Full time Employee  Question 30, Response 3       NaN  \n",
       "\n",
       "[17028 rows x 10 columns]"
      ],
      "text/html": "<div>\n<style scoped>\n    .dataframe tbody tr th:only-of-type {\n        vertical-align: middle;\n    }\n\n    .dataframe tbody tr th {\n        vertical-align: top;\n    }\n\n    .dataframe thead th {\n        text-align: right;\n    }\n</style>\n<table border=\"1\" class=\"dataframe\">\n  <thead>\n    <tr style=\"text-align: right;\">\n      <th></th>\n      <th>Respondent ID</th>\n      <th>Division response</th>\n      <th>Other devision</th>\n      <th>Position level</th>\n      <th>Generation</th>\n      <th>Gender</th>\n      <th>Tenure</th>\n      <th>Employment type</th>\n      <th>Question &amp; Subquestion</th>\n      <th>Answer</th>\n    </tr>\n  </thead>\n  <tbody>\n    <tr>\n      <th>0</th>\n      <td>5379192392</td>\n      <td>Infrastructure</td>\n      <td>NaN</td>\n      <td>Staff</td>\n      <td>Generation X (born between 1965-1980)</td>\n      <td>Male</td>\n      <td>0-2 years</td>\n      <td>Full time Employee</td>\n      <td>Question 1, Response</td>\n      <td>NaN</td>\n    </tr>\n    <tr>\n      <th>1</th>\n      <td>2658722536</td>\n      <td>Finance</td>\n      <td>NaN</td>\n      <td>Staff</td>\n      <td>NaN</td>\n      <td>NaN</td>\n      <td>10+ years</td>\n      <td>Full time Employee</td>\n      <td>Question 1, Response</td>\n      <td>Answer 4</td>\n    </tr>\n    <tr>\n      <th>2</th>\n      <td>4044163394</td>\n      <td>Infrastructure</td>\n      <td>NaN</td>\n      <td>Department Lead</td>\n      <td>Generation X (born between 1965-1980)</td>\n      <td>Male</td>\n      <td>3-5 years</td>\n      <td>Full time Employee</td>\n      <td>Question 1, Response</td>\n      <td>Answer 5</td>\n    </tr>\n    <tr>\n      <th>3</th>\n      <td>5535865599</td>\n      <td>Infrastructure</td>\n      <td>NaN</td>\n      <td>Manager</td>\n      <td>Millennial (born between 1981-2000)</td>\n      <td>Non-Binary</td>\n      <td>5-10 years</td>\n      <td>Full time Employee</td>\n      <td>Question 1, Response</td>\n      <td>Answer 1</td>\n    </tr>\n    <tr>\n      <th>4</th>\n      <td>3356802928</td>\n      <td>Port Operations</td>\n      <td>NaN</td>\n      <td>Manager</td>\n      <td>Generation X (born between 1965-1980)</td>\n      <td>Female</td>\n      <td>10+ years</td>\n      <td>Full time Employee</td>\n      <td>Question 1, Response</td>\n      <td>NaN</td>\n    </tr>\n    <tr>\n      <th>...</th>\n      <td>...</td>\n      <td>...</td>\n      <td>...</td>\n      <td>...</td>\n      <td>...</td>\n      <td>...</td>\n      <td>...</td>\n      <td>...</td>\n      <td>...</td>\n      <td>...</td>\n    </tr>\n    <tr>\n      <th>17023</th>\n      <td>7940065082</td>\n      <td>Infrastructure</td>\n      <td>NaN</td>\n      <td>Department Lead</td>\n      <td>Baby Boomer (born between 1946-1964)</td>\n      <td>Male</td>\n      <td>10+ years</td>\n      <td>Full time Employee</td>\n      <td>Question 30, Response 3</td>\n      <td>Answer 8</td>\n    </tr>\n    <tr>\n      <th>17024</th>\n      <td>5157705612</td>\n      <td>Finance</td>\n      <td>NaN</td>\n      <td>Staff</td>\n      <td>Millennial (born between 1981-2000)</td>\n      <td>Female</td>\n      <td>5-10 years</td>\n      <td>Full time Employee</td>\n      <td>Question 30, Response 3</td>\n      <td>Answer 6</td>\n    </tr>\n    <tr>\n      <th>17025</th>\n      <td>9920755555</td>\n      <td>Port Operations</td>\n      <td>NaN</td>\n      <td>Staff</td>\n      <td>Millennial (born between 1981-2000)</td>\n      <td>Female</td>\n      <td>3-5 years</td>\n      <td>Full time Employee</td>\n      <td>Question 30, Response 3</td>\n      <td>NaN</td>\n    </tr>\n    <tr>\n      <th>17026</th>\n      <td>6638341389</td>\n      <td>Infrastructure</td>\n      <td>NaN</td>\n      <td>Manager</td>\n      <td>Millennial (born between 1981-2000)</td>\n      <td>Female</td>\n      <td>3-5 years</td>\n      <td>Full time Employee</td>\n      <td>Question 30, Response 3</td>\n      <td>NaN</td>\n    </tr>\n    <tr>\n      <th>17027</th>\n      <td>8114622230</td>\n      <td>Information Technology</td>\n      <td>NaN</td>\n      <td>Staff</td>\n      <td>Prefer not to answer</td>\n      <td>Male</td>\n      <td>5-10 years</td>\n      <td>Full time Employee</td>\n      <td>Question 30, Response 3</td>\n      <td>NaN</td>\n    </tr>\n  </tbody>\n</table>\n<p>17028 rows × 10 columns</p>\n</div>"
     },
     "metadata": {},
     "execution_count": 7
    }
   ],
   "source": [
    "#restructring  the data from the wide to the llong format using the mely method\n",
    "df_melted = df.melt(id_vars= id_var, value_vars= value_var, var_name= 'Question & Subquestion', value_name= 'Answer')\n",
    "df_melted"
   ]
  },
  {
   "cell_type": "code",
   "execution_count": 8,
   "metadata": {},
   "outputs": [
    {
     "output_type": "execute_result",
     "data": {
      "text/plain": [
       "       Respondent ID       Division response Other devision   Position level  \\\n",
       "0         5379192392          Infrastructure            NaN            Staff   \n",
       "1         2658722536                 Finance            NaN            Staff   \n",
       "2         4044163394          Infrastructure            NaN  Department Lead   \n",
       "3         5535865599          Infrastructure            NaN          Manager   \n",
       "4         3356802928         Port Operations            NaN          Manager   \n",
       "...              ...                     ...            ...              ...   \n",
       "17023     7940065082          Infrastructure            NaN  Department Lead   \n",
       "17024     5157705612                 Finance            NaN            Staff   \n",
       "17025     9920755555         Port Operations            NaN            Staff   \n",
       "17026     6638341389          Infrastructure            NaN          Manager   \n",
       "17027     8114622230  Information Technology            NaN            Staff   \n",
       "\n",
       "                                  Generation      Gender      Tenure  \\\n",
       "0      Generation X (born between 1965-1980)        Male   0-2 years   \n",
       "1                                        NaN         NaN   10+ years   \n",
       "2      Generation X (born between 1965-1980)        Male   3-5 years   \n",
       "3        Millennial (born between 1981-2000)  Non-Binary  5-10 years   \n",
       "4      Generation X (born between 1965-1980)      Female   10+ years   \n",
       "...                                      ...         ...         ...   \n",
       "17023   Baby Boomer (born between 1946-1964)        Male   10+ years   \n",
       "17024    Millennial (born between 1981-2000)      Female  5-10 years   \n",
       "17025    Millennial (born between 1981-2000)      Female   3-5 years   \n",
       "17026    Millennial (born between 1981-2000)      Female   3-5 years   \n",
       "17027                   Prefer not to answer        Male  5-10 years   \n",
       "\n",
       "          Employment type   Question & Subquestion    Answer     Question  \n",
       "0      Full time Employee     Question 1, Response       NaN   Question 1  \n",
       "1      Full time Employee     Question 1, Response  Answer 4   Question 1  \n",
       "2      Full time Employee     Question 1, Response  Answer 5   Question 1  \n",
       "3      Full time Employee     Question 1, Response  Answer 1   Question 1  \n",
       "4      Full time Employee     Question 1, Response       NaN   Question 1  \n",
       "...                   ...                      ...       ...          ...  \n",
       "17023  Full time Employee  Question 30, Response 3  Answer 8  Question 30  \n",
       "17024  Full time Employee  Question 30, Response 3  Answer 6  Question 30  \n",
       "17025  Full time Employee  Question 30, Response 3       NaN  Question 30  \n",
       "17026  Full time Employee  Question 30, Response 3       NaN  Question 30  \n",
       "17027  Full time Employee  Question 30, Response 3       NaN  Question 30  \n",
       "\n",
       "[17028 rows x 11 columns]"
      ],
      "text/html": "<div>\n<style scoped>\n    .dataframe tbody tr th:only-of-type {\n        vertical-align: middle;\n    }\n\n    .dataframe tbody tr th {\n        vertical-align: top;\n    }\n\n    .dataframe thead th {\n        text-align: right;\n    }\n</style>\n<table border=\"1\" class=\"dataframe\">\n  <thead>\n    <tr style=\"text-align: right;\">\n      <th></th>\n      <th>Respondent ID</th>\n      <th>Division response</th>\n      <th>Other devision</th>\n      <th>Position level</th>\n      <th>Generation</th>\n      <th>Gender</th>\n      <th>Tenure</th>\n      <th>Employment type</th>\n      <th>Question &amp; Subquestion</th>\n      <th>Answer</th>\n      <th>Question</th>\n    </tr>\n  </thead>\n  <tbody>\n    <tr>\n      <th>0</th>\n      <td>5379192392</td>\n      <td>Infrastructure</td>\n      <td>NaN</td>\n      <td>Staff</td>\n      <td>Generation X (born between 1965-1980)</td>\n      <td>Male</td>\n      <td>0-2 years</td>\n      <td>Full time Employee</td>\n      <td>Question 1, Response</td>\n      <td>NaN</td>\n      <td>Question 1</td>\n    </tr>\n    <tr>\n      <th>1</th>\n      <td>2658722536</td>\n      <td>Finance</td>\n      <td>NaN</td>\n      <td>Staff</td>\n      <td>NaN</td>\n      <td>NaN</td>\n      <td>10+ years</td>\n      <td>Full time Employee</td>\n      <td>Question 1, Response</td>\n      <td>Answer 4</td>\n      <td>Question 1</td>\n    </tr>\n    <tr>\n      <th>2</th>\n      <td>4044163394</td>\n      <td>Infrastructure</td>\n      <td>NaN</td>\n      <td>Department Lead</td>\n      <td>Generation X (born between 1965-1980)</td>\n      <td>Male</td>\n      <td>3-5 years</td>\n      <td>Full time Employee</td>\n      <td>Question 1, Response</td>\n      <td>Answer 5</td>\n      <td>Question 1</td>\n    </tr>\n    <tr>\n      <th>3</th>\n      <td>5535865599</td>\n      <td>Infrastructure</td>\n      <td>NaN</td>\n      <td>Manager</td>\n      <td>Millennial (born between 1981-2000)</td>\n      <td>Non-Binary</td>\n      <td>5-10 years</td>\n      <td>Full time Employee</td>\n      <td>Question 1, Response</td>\n      <td>Answer 1</td>\n      <td>Question 1</td>\n    </tr>\n    <tr>\n      <th>4</th>\n      <td>3356802928</td>\n      <td>Port Operations</td>\n      <td>NaN</td>\n      <td>Manager</td>\n      <td>Generation X (born between 1965-1980)</td>\n      <td>Female</td>\n      <td>10+ years</td>\n      <td>Full time Employee</td>\n      <td>Question 1, Response</td>\n      <td>NaN</td>\n      <td>Question 1</td>\n    </tr>\n    <tr>\n      <th>...</th>\n      <td>...</td>\n      <td>...</td>\n      <td>...</td>\n      <td>...</td>\n      <td>...</td>\n      <td>...</td>\n      <td>...</td>\n      <td>...</td>\n      <td>...</td>\n      <td>...</td>\n      <td>...</td>\n    </tr>\n    <tr>\n      <th>17023</th>\n      <td>7940065082</td>\n      <td>Infrastructure</td>\n      <td>NaN</td>\n      <td>Department Lead</td>\n      <td>Baby Boomer (born between 1946-1964)</td>\n      <td>Male</td>\n      <td>10+ years</td>\n      <td>Full time Employee</td>\n      <td>Question 30, Response 3</td>\n      <td>Answer 8</td>\n      <td>Question 30</td>\n    </tr>\n    <tr>\n      <th>17024</th>\n      <td>5157705612</td>\n      <td>Finance</td>\n      <td>NaN</td>\n      <td>Staff</td>\n      <td>Millennial (born between 1981-2000)</td>\n      <td>Female</td>\n      <td>5-10 years</td>\n      <td>Full time Employee</td>\n      <td>Question 30, Response 3</td>\n      <td>Answer 6</td>\n      <td>Question 30</td>\n    </tr>\n    <tr>\n      <th>17025</th>\n      <td>9920755555</td>\n      <td>Port Operations</td>\n      <td>NaN</td>\n      <td>Staff</td>\n      <td>Millennial (born between 1981-2000)</td>\n      <td>Female</td>\n      <td>3-5 years</td>\n      <td>Full time Employee</td>\n      <td>Question 30, Response 3</td>\n      <td>NaN</td>\n      <td>Question 30</td>\n    </tr>\n    <tr>\n      <th>17026</th>\n      <td>6638341389</td>\n      <td>Infrastructure</td>\n      <td>NaN</td>\n      <td>Manager</td>\n      <td>Millennial (born between 1981-2000)</td>\n      <td>Female</td>\n      <td>3-5 years</td>\n      <td>Full time Employee</td>\n      <td>Question 30, Response 3</td>\n      <td>NaN</td>\n      <td>Question 30</td>\n    </tr>\n    <tr>\n      <th>17027</th>\n      <td>8114622230</td>\n      <td>Information Technology</td>\n      <td>NaN</td>\n      <td>Staff</td>\n      <td>Prefer not to answer</td>\n      <td>Male</td>\n      <td>5-10 years</td>\n      <td>Full time Employee</td>\n      <td>Question 30, Response 3</td>\n      <td>NaN</td>\n      <td>Question 30</td>\n    </tr>\n  </tbody>\n</table>\n<p>17028 rows × 11 columns</p>\n</div>"
     },
     "metadata": {},
     "execution_count": 8
    }
   ],
   "source": [
    "#creating the question column\n",
    "df_melted['Question'] = df_melted['Question & Subquestion'].str.split(',').str[0]\n",
    "df_melted"
   ]
  },
  {
   "cell_type": "code",
   "execution_count": 10,
   "metadata": {},
   "outputs": [
    {
     "output_type": "execute_result",
     "data": {
      "text/plain": [
       "       Question  Respondents\n",
       "0    Question 1          119\n",
       "1   Question 10          198\n",
       "2   Question 11          164\n",
       "3   Question 12          114\n",
       "4   Question 13          108\n",
       "5   Question 14          105\n",
       "6   Question 15          114\n",
       "7   Question 16          117\n",
       "8   Question 17          135\n",
       "9   Question 18          109\n",
       "10  Question 19          157\n",
       "11   Question 2          118\n",
       "12  Question 20          105\n",
       "13  Question 21          127\n",
       "14  Question 22          160\n",
       "15  Question 23          120\n",
       "16  Question 24          195\n",
       "17  Question 25          198\n",
       "18  Question 26          193\n",
       "19  Question 27          153\n",
       "20  Question 28          119\n",
       "21  Question 29          198\n",
       "22   Question 3          117\n",
       "23  Question 30          182\n",
       "24   Question 4          161\n",
       "25   Question 5          194\n",
       "26   Question 6          196\n",
       "27   Question 7          162\n",
       "28   Question 8          190\n",
       "29   Question 9          188"
      ],
      "text/html": "<div>\n<style scoped>\n    .dataframe tbody tr th:only-of-type {\n        vertical-align: middle;\n    }\n\n    .dataframe tbody tr th {\n        vertical-align: top;\n    }\n\n    .dataframe thead th {\n        text-align: right;\n    }\n</style>\n<table border=\"1\" class=\"dataframe\">\n  <thead>\n    <tr style=\"text-align: right;\">\n      <th></th>\n      <th>Question</th>\n      <th>Respondents</th>\n    </tr>\n  </thead>\n  <tbody>\n    <tr>\n      <th>0</th>\n      <td>Question 1</td>\n      <td>119</td>\n    </tr>\n    <tr>\n      <th>1</th>\n      <td>Question 10</td>\n      <td>198</td>\n    </tr>\n    <tr>\n      <th>2</th>\n      <td>Question 11</td>\n      <td>164</td>\n    </tr>\n    <tr>\n      <th>3</th>\n      <td>Question 12</td>\n      <td>114</td>\n    </tr>\n    <tr>\n      <th>4</th>\n      <td>Question 13</td>\n      <td>108</td>\n    </tr>\n    <tr>\n      <th>5</th>\n      <td>Question 14</td>\n      <td>105</td>\n    </tr>\n    <tr>\n      <th>6</th>\n      <td>Question 15</td>\n      <td>114</td>\n    </tr>\n    <tr>\n      <th>7</th>\n      <td>Question 16</td>\n      <td>117</td>\n    </tr>\n    <tr>\n      <th>8</th>\n      <td>Question 17</td>\n      <td>135</td>\n    </tr>\n    <tr>\n      <th>9</th>\n      <td>Question 18</td>\n      <td>109</td>\n    </tr>\n    <tr>\n      <th>10</th>\n      <td>Question 19</td>\n      <td>157</td>\n    </tr>\n    <tr>\n      <th>11</th>\n      <td>Question 2</td>\n      <td>118</td>\n    </tr>\n    <tr>\n      <th>12</th>\n      <td>Question 20</td>\n      <td>105</td>\n    </tr>\n    <tr>\n      <th>13</th>\n      <td>Question 21</td>\n      <td>127</td>\n    </tr>\n    <tr>\n      <th>14</th>\n      <td>Question 22</td>\n      <td>160</td>\n    </tr>\n    <tr>\n      <th>15</th>\n      <td>Question 23</td>\n      <td>120</td>\n    </tr>\n    <tr>\n      <th>16</th>\n      <td>Question 24</td>\n      <td>195</td>\n    </tr>\n    <tr>\n      <th>17</th>\n      <td>Question 25</td>\n      <td>198</td>\n    </tr>\n    <tr>\n      <th>18</th>\n      <td>Question 26</td>\n      <td>193</td>\n    </tr>\n    <tr>\n      <th>19</th>\n      <td>Question 27</td>\n      <td>153</td>\n    </tr>\n    <tr>\n      <th>20</th>\n      <td>Question 28</td>\n      <td>119</td>\n    </tr>\n    <tr>\n      <th>21</th>\n      <td>Question 29</td>\n      <td>198</td>\n    </tr>\n    <tr>\n      <th>22</th>\n      <td>Question 3</td>\n      <td>117</td>\n    </tr>\n    <tr>\n      <th>23</th>\n      <td>Question 30</td>\n      <td>182</td>\n    </tr>\n    <tr>\n      <th>24</th>\n      <td>Question 4</td>\n      <td>161</td>\n    </tr>\n    <tr>\n      <th>25</th>\n      <td>Question 5</td>\n      <td>194</td>\n    </tr>\n    <tr>\n      <th>26</th>\n      <td>Question 6</td>\n      <td>196</td>\n    </tr>\n    <tr>\n      <th>27</th>\n      <td>Question 7</td>\n      <td>162</td>\n    </tr>\n    <tr>\n      <th>28</th>\n      <td>Question 8</td>\n      <td>190</td>\n    </tr>\n    <tr>\n      <th>29</th>\n      <td>Question 9</td>\n      <td>188</td>\n    </tr>\n  </tbody>\n</table>\n</div>"
     },
     "metadata": {},
     "execution_count": 10
    }
   ],
   "source": [
    "#cleaning the na answer to group by question\n",
    "df_res = df_melted[df_melted['Answer'].notna()]\n",
    "df_res = df_res.groupby('Question')['Respondent ID'].nunique().reset_index()\n",
    "df_res.rename(columns={'Respondent ID': 'Respondents'}, inplace=True)\n",
    "df_res"
   ]
  },
  {
   "cell_type": "code",
   "execution_count": 11,
   "metadata": {},
   "outputs": [
    {
     "output_type": "execute_result",
     "data": {
      "text/plain": [
       "       Respondent ID       Division response Other devision   Position level  \\\n",
       "0         5379192392          Infrastructure            NaN            Staff   \n",
       "1         2658722536                 Finance            NaN            Staff   \n",
       "2         4044163394          Infrastructure            NaN  Department Lead   \n",
       "3         5535865599          Infrastructure            NaN          Manager   \n",
       "4         3356802928         Port Operations            NaN          Manager   \n",
       "...              ...                     ...            ...              ...   \n",
       "17023     7940065082          Infrastructure            NaN  Department Lead   \n",
       "17024     5157705612                 Finance            NaN            Staff   \n",
       "17025     9920755555         Port Operations            NaN            Staff   \n",
       "17026     6638341389          Infrastructure            NaN          Manager   \n",
       "17027     8114622230  Information Technology            NaN            Staff   \n",
       "\n",
       "                                  Generation      Gender      Tenure  \\\n",
       "0      Generation X (born between 1965-1980)        Male   0-2 years   \n",
       "1                                        NaN         NaN   10+ years   \n",
       "2      Generation X (born between 1965-1980)        Male   3-5 years   \n",
       "3        Millennial (born between 1981-2000)  Non-Binary  5-10 years   \n",
       "4      Generation X (born between 1965-1980)      Female   10+ years   \n",
       "...                                      ...         ...         ...   \n",
       "17023   Baby Boomer (born between 1946-1964)        Male   10+ years   \n",
       "17024    Millennial (born between 1981-2000)      Female  5-10 years   \n",
       "17025    Millennial (born between 1981-2000)      Female   3-5 years   \n",
       "17026    Millennial (born between 1981-2000)      Female   3-5 years   \n",
       "17027                   Prefer not to answer        Male  5-10 years   \n",
       "\n",
       "          Employment type   Question & Subquestion    Answer     Question  \\\n",
       "0      Full time Employee     Question 1, Response       NaN   Question 1   \n",
       "1      Full time Employee     Question 1, Response  Answer 4   Question 1   \n",
       "2      Full time Employee     Question 1, Response  Answer 5   Question 1   \n",
       "3      Full time Employee     Question 1, Response  Answer 1   Question 1   \n",
       "4      Full time Employee     Question 1, Response       NaN   Question 1   \n",
       "...                   ...                      ...       ...          ...   \n",
       "17023  Full time Employee  Question 30, Response 3  Answer 8  Question 30   \n",
       "17024  Full time Employee  Question 30, Response 3  Answer 6  Question 30   \n",
       "17025  Full time Employee  Question 30, Response 3       NaN  Question 30   \n",
       "17026  Full time Employee  Question 30, Response 3       NaN  Question 30   \n",
       "17027  Full time Employee  Question 30, Response 3       NaN  Question 30   \n",
       "\n",
       "       Respondents  \n",
       "0              119  \n",
       "1              119  \n",
       "2              119  \n",
       "3              119  \n",
       "4              119  \n",
       "...            ...  \n",
       "17023          182  \n",
       "17024          182  \n",
       "17025          182  \n",
       "17026          182  \n",
       "17027          182  \n",
       "\n",
       "[17028 rows x 12 columns]"
      ],
      "text/html": "<div>\n<style scoped>\n    .dataframe tbody tr th:only-of-type {\n        vertical-align: middle;\n    }\n\n    .dataframe tbody tr th {\n        vertical-align: top;\n    }\n\n    .dataframe thead th {\n        text-align: right;\n    }\n</style>\n<table border=\"1\" class=\"dataframe\">\n  <thead>\n    <tr style=\"text-align: right;\">\n      <th></th>\n      <th>Respondent ID</th>\n      <th>Division response</th>\n      <th>Other devision</th>\n      <th>Position level</th>\n      <th>Generation</th>\n      <th>Gender</th>\n      <th>Tenure</th>\n      <th>Employment type</th>\n      <th>Question &amp; Subquestion</th>\n      <th>Answer</th>\n      <th>Question</th>\n      <th>Respondents</th>\n    </tr>\n  </thead>\n  <tbody>\n    <tr>\n      <th>0</th>\n      <td>5379192392</td>\n      <td>Infrastructure</td>\n      <td>NaN</td>\n      <td>Staff</td>\n      <td>Generation X (born between 1965-1980)</td>\n      <td>Male</td>\n      <td>0-2 years</td>\n      <td>Full time Employee</td>\n      <td>Question 1, Response</td>\n      <td>NaN</td>\n      <td>Question 1</td>\n      <td>119</td>\n    </tr>\n    <tr>\n      <th>1</th>\n      <td>2658722536</td>\n      <td>Finance</td>\n      <td>NaN</td>\n      <td>Staff</td>\n      <td>NaN</td>\n      <td>NaN</td>\n      <td>10+ years</td>\n      <td>Full time Employee</td>\n      <td>Question 1, Response</td>\n      <td>Answer 4</td>\n      <td>Question 1</td>\n      <td>119</td>\n    </tr>\n    <tr>\n      <th>2</th>\n      <td>4044163394</td>\n      <td>Infrastructure</td>\n      <td>NaN</td>\n      <td>Department Lead</td>\n      <td>Generation X (born between 1965-1980)</td>\n      <td>Male</td>\n      <td>3-5 years</td>\n      <td>Full time Employee</td>\n      <td>Question 1, Response</td>\n      <td>Answer 5</td>\n      <td>Question 1</td>\n      <td>119</td>\n    </tr>\n    <tr>\n      <th>3</th>\n      <td>5535865599</td>\n      <td>Infrastructure</td>\n      <td>NaN</td>\n      <td>Manager</td>\n      <td>Millennial (born between 1981-2000)</td>\n      <td>Non-Binary</td>\n      <td>5-10 years</td>\n      <td>Full time Employee</td>\n      <td>Question 1, Response</td>\n      <td>Answer 1</td>\n      <td>Question 1</td>\n      <td>119</td>\n    </tr>\n    <tr>\n      <th>4</th>\n      <td>3356802928</td>\n      <td>Port Operations</td>\n      <td>NaN</td>\n      <td>Manager</td>\n      <td>Generation X (born between 1965-1980)</td>\n      <td>Female</td>\n      <td>10+ years</td>\n      <td>Full time Employee</td>\n      <td>Question 1, Response</td>\n      <td>NaN</td>\n      <td>Question 1</td>\n      <td>119</td>\n    </tr>\n    <tr>\n      <th>...</th>\n      <td>...</td>\n      <td>...</td>\n      <td>...</td>\n      <td>...</td>\n      <td>...</td>\n      <td>...</td>\n      <td>...</td>\n      <td>...</td>\n      <td>...</td>\n      <td>...</td>\n      <td>...</td>\n      <td>...</td>\n    </tr>\n    <tr>\n      <th>17023</th>\n      <td>7940065082</td>\n      <td>Infrastructure</td>\n      <td>NaN</td>\n      <td>Department Lead</td>\n      <td>Baby Boomer (born between 1946-1964)</td>\n      <td>Male</td>\n      <td>10+ years</td>\n      <td>Full time Employee</td>\n      <td>Question 30, Response 3</td>\n      <td>Answer 8</td>\n      <td>Question 30</td>\n      <td>182</td>\n    </tr>\n    <tr>\n      <th>17024</th>\n      <td>5157705612</td>\n      <td>Finance</td>\n      <td>NaN</td>\n      <td>Staff</td>\n      <td>Millennial (born between 1981-2000)</td>\n      <td>Female</td>\n      <td>5-10 years</td>\n      <td>Full time Employee</td>\n      <td>Question 30, Response 3</td>\n      <td>Answer 6</td>\n      <td>Question 30</td>\n      <td>182</td>\n    </tr>\n    <tr>\n      <th>17025</th>\n      <td>9920755555</td>\n      <td>Port Operations</td>\n      <td>NaN</td>\n      <td>Staff</td>\n      <td>Millennial (born between 1981-2000)</td>\n      <td>Female</td>\n      <td>3-5 years</td>\n      <td>Full time Employee</td>\n      <td>Question 30, Response 3</td>\n      <td>NaN</td>\n      <td>Question 30</td>\n      <td>182</td>\n    </tr>\n    <tr>\n      <th>17026</th>\n      <td>6638341389</td>\n      <td>Infrastructure</td>\n      <td>NaN</td>\n      <td>Manager</td>\n      <td>Millennial (born between 1981-2000)</td>\n      <td>Female</td>\n      <td>3-5 years</td>\n      <td>Full time Employee</td>\n      <td>Question 30, Response 3</td>\n      <td>NaN</td>\n      <td>Question 30</td>\n      <td>182</td>\n    </tr>\n    <tr>\n      <th>17027</th>\n      <td>8114622230</td>\n      <td>Information Technology</td>\n      <td>NaN</td>\n      <td>Staff</td>\n      <td>Prefer not to answer</td>\n      <td>Male</td>\n      <td>5-10 years</td>\n      <td>Full time Employee</td>\n      <td>Question 30, Response 3</td>\n      <td>NaN</td>\n      <td>Question 30</td>\n      <td>182</td>\n    </tr>\n  </tbody>\n</table>\n<p>17028 rows × 12 columns</p>\n</div>"
     },
     "metadata": {},
     "execution_count": 11
    }
   ],
   "source": [
    "#adding the respandents count to the dataframe\n",
    "df_respand = pd.merge(left=df_melted, right=df_res, how='left', right_on='Question', left_on='Question')\n",
    "df_respand"
   ]
  },
  {
   "cell_type": "code",
   "execution_count": 12,
   "metadata": {},
   "outputs": [
    {
     "output_type": "execute_result",
     "data": {
      "text/plain": [
       "     Question & Subquestion    Answer  Same Answer\n",
       "0      Question 1, Response  Answer 1           14\n",
       "1      Question 1, Response  Answer 2           10\n",
       "2      Question 1, Response  Answer 3           13\n",
       "3      Question 1, Response  Answer 4           17\n",
       "4      Question 1, Response  Answer 5           22\n",
       "..                      ...       ...          ...\n",
       "683  Question 9, Response 4  Answer 4           16\n",
       "684  Question 9, Response 4  Answer 5           13\n",
       "685  Question 9, Response 4  Answer 6           14\n",
       "686  Question 9, Response 4  Answer 7           12\n",
       "687  Question 9, Response 4  Answer 8           19\n",
       "\n",
       "[688 rows x 3 columns]"
      ],
      "text/html": "<div>\n<style scoped>\n    .dataframe tbody tr th:only-of-type {\n        vertical-align: middle;\n    }\n\n    .dataframe tbody tr th {\n        vertical-align: top;\n    }\n\n    .dataframe thead th {\n        text-align: right;\n    }\n</style>\n<table border=\"1\" class=\"dataframe\">\n  <thead>\n    <tr style=\"text-align: right;\">\n      <th></th>\n      <th>Question &amp; Subquestion</th>\n      <th>Answer</th>\n      <th>Same Answer</th>\n    </tr>\n  </thead>\n  <tbody>\n    <tr>\n      <th>0</th>\n      <td>Question 1, Response</td>\n      <td>Answer 1</td>\n      <td>14</td>\n    </tr>\n    <tr>\n      <th>1</th>\n      <td>Question 1, Response</td>\n      <td>Answer 2</td>\n      <td>10</td>\n    </tr>\n    <tr>\n      <th>2</th>\n      <td>Question 1, Response</td>\n      <td>Answer 3</td>\n      <td>13</td>\n    </tr>\n    <tr>\n      <th>3</th>\n      <td>Question 1, Response</td>\n      <td>Answer 4</td>\n      <td>17</td>\n    </tr>\n    <tr>\n      <th>4</th>\n      <td>Question 1, Response</td>\n      <td>Answer 5</td>\n      <td>22</td>\n    </tr>\n    <tr>\n      <th>...</th>\n      <td>...</td>\n      <td>...</td>\n      <td>...</td>\n    </tr>\n    <tr>\n      <th>683</th>\n      <td>Question 9, Response 4</td>\n      <td>Answer 4</td>\n      <td>16</td>\n    </tr>\n    <tr>\n      <th>684</th>\n      <td>Question 9, Response 4</td>\n      <td>Answer 5</td>\n      <td>13</td>\n    </tr>\n    <tr>\n      <th>685</th>\n      <td>Question 9, Response 4</td>\n      <td>Answer 6</td>\n      <td>14</td>\n    </tr>\n    <tr>\n      <th>686</th>\n      <td>Question 9, Response 4</td>\n      <td>Answer 7</td>\n      <td>12</td>\n    </tr>\n    <tr>\n      <th>687</th>\n      <td>Question 9, Response 4</td>\n      <td>Answer 8</td>\n      <td>19</td>\n    </tr>\n  </tbody>\n</table>\n<p>688 rows × 3 columns</p>\n</div>"
     },
     "metadata": {},
     "execution_count": 12
    }
   ],
   "source": [
    "#cleaning the answers column to group by the same answer\n",
    "df_ans = df_melted[df_melted['Answer'].notna()]\n",
    "df_ans = df_ans.groupby(['Question & Subquestion', 'Answer'])['Respondent ID'].nunique().reset_index()\n",
    "df_ans.rename(columns={'Respondent ID': 'Same Answer'}, inplace=True)\n",
    "df_ans"
   ]
  },
  {
   "cell_type": "code",
   "execution_count": 14,
   "metadata": {},
   "outputs": [
    {
     "output_type": "execute_result",
     "data": {
      "text/plain": [
       "       Respondent ID       Division response Other devision   Position level  \\\n",
       "0         5379192392          Infrastructure            NaN            Staff   \n",
       "1         2658722536                 Finance            NaN            Staff   \n",
       "2         4044163394          Infrastructure            NaN  Department Lead   \n",
       "3         5535865599          Infrastructure            NaN          Manager   \n",
       "4         3356802928         Port Operations            NaN          Manager   \n",
       "...              ...                     ...            ...              ...   \n",
       "17023     7940065082          Infrastructure            NaN  Department Lead   \n",
       "17024     5157705612                 Finance            NaN            Staff   \n",
       "17025     9920755555         Port Operations            NaN            Staff   \n",
       "17026     6638341389          Infrastructure            NaN          Manager   \n",
       "17027     8114622230  Information Technology            NaN            Staff   \n",
       "\n",
       "                                  Generation      Gender      Tenure  \\\n",
       "0      Generation X (born between 1965-1980)        Male   0-2 years   \n",
       "1                                        NaN         NaN   10+ years   \n",
       "2      Generation X (born between 1965-1980)        Male   3-5 years   \n",
       "3        Millennial (born between 1981-2000)  Non-Binary  5-10 years   \n",
       "4      Generation X (born between 1965-1980)      Female   10+ years   \n",
       "...                                      ...         ...         ...   \n",
       "17023   Baby Boomer (born between 1946-1964)        Male   10+ years   \n",
       "17024    Millennial (born between 1981-2000)      Female  5-10 years   \n",
       "17025    Millennial (born between 1981-2000)      Female   3-5 years   \n",
       "17026    Millennial (born between 1981-2000)      Female   3-5 years   \n",
       "17027                   Prefer not to answer        Male  5-10 years   \n",
       "\n",
       "          Employment type   Question & Subquestion    Answer     Question  \\\n",
       "0      Full time Employee     Question 1, Response       NaN   Question 1   \n",
       "1      Full time Employee     Question 1, Response  Answer 4   Question 1   \n",
       "2      Full time Employee     Question 1, Response  Answer 5   Question 1   \n",
       "3      Full time Employee     Question 1, Response  Answer 1   Question 1   \n",
       "4      Full time Employee     Question 1, Response       NaN   Question 1   \n",
       "...                   ...                      ...       ...          ...   \n",
       "17023  Full time Employee  Question 30, Response 3  Answer 8  Question 30   \n",
       "17024  Full time Employee  Question 30, Response 3  Answer 6  Question 30   \n",
       "17025  Full time Employee  Question 30, Response 3       NaN  Question 30   \n",
       "17026  Full time Employee  Question 30, Response 3       NaN  Question 30   \n",
       "17027  Full time Employee  Question 30, Response 3       NaN  Question 30   \n",
       "\n",
       "       Respondents  Same Answer  \n",
       "0              119          NaN  \n",
       "1              119         17.0  \n",
       "2              119         22.0  \n",
       "3              119         14.0  \n",
       "4              119          NaN  \n",
       "...            ...          ...  \n",
       "17023          182         14.0  \n",
       "17024          182         20.0  \n",
       "17025          182          NaN  \n",
       "17026          182          NaN  \n",
       "17027          182          NaN  \n",
       "\n",
       "[17028 rows x 13 columns]"
      ],
      "text/html": "<div>\n<style scoped>\n    .dataframe tbody tr th:only-of-type {\n        vertical-align: middle;\n    }\n\n    .dataframe tbody tr th {\n        vertical-align: top;\n    }\n\n    .dataframe thead th {\n        text-align: right;\n    }\n</style>\n<table border=\"1\" class=\"dataframe\">\n  <thead>\n    <tr style=\"text-align: right;\">\n      <th></th>\n      <th>Respondent ID</th>\n      <th>Division response</th>\n      <th>Other devision</th>\n      <th>Position level</th>\n      <th>Generation</th>\n      <th>Gender</th>\n      <th>Tenure</th>\n      <th>Employment type</th>\n      <th>Question &amp; Subquestion</th>\n      <th>Answer</th>\n      <th>Question</th>\n      <th>Respondents</th>\n      <th>Same Answer</th>\n    </tr>\n  </thead>\n  <tbody>\n    <tr>\n      <th>0</th>\n      <td>5379192392</td>\n      <td>Infrastructure</td>\n      <td>NaN</td>\n      <td>Staff</td>\n      <td>Generation X (born between 1965-1980)</td>\n      <td>Male</td>\n      <td>0-2 years</td>\n      <td>Full time Employee</td>\n      <td>Question 1, Response</td>\n      <td>NaN</td>\n      <td>Question 1</td>\n      <td>119</td>\n      <td>NaN</td>\n    </tr>\n    <tr>\n      <th>1</th>\n      <td>2658722536</td>\n      <td>Finance</td>\n      <td>NaN</td>\n      <td>Staff</td>\n      <td>NaN</td>\n      <td>NaN</td>\n      <td>10+ years</td>\n      <td>Full time Employee</td>\n      <td>Question 1, Response</td>\n      <td>Answer 4</td>\n      <td>Question 1</td>\n      <td>119</td>\n      <td>17.0</td>\n    </tr>\n    <tr>\n      <th>2</th>\n      <td>4044163394</td>\n      <td>Infrastructure</td>\n      <td>NaN</td>\n      <td>Department Lead</td>\n      <td>Generation X (born between 1965-1980)</td>\n      <td>Male</td>\n      <td>3-5 years</td>\n      <td>Full time Employee</td>\n      <td>Question 1, Response</td>\n      <td>Answer 5</td>\n      <td>Question 1</td>\n      <td>119</td>\n      <td>22.0</td>\n    </tr>\n    <tr>\n      <th>3</th>\n      <td>5535865599</td>\n      <td>Infrastructure</td>\n      <td>NaN</td>\n      <td>Manager</td>\n      <td>Millennial (born between 1981-2000)</td>\n      <td>Non-Binary</td>\n      <td>5-10 years</td>\n      <td>Full time Employee</td>\n      <td>Question 1, Response</td>\n      <td>Answer 1</td>\n      <td>Question 1</td>\n      <td>119</td>\n      <td>14.0</td>\n    </tr>\n    <tr>\n      <th>4</th>\n      <td>3356802928</td>\n      <td>Port Operations</td>\n      <td>NaN</td>\n      <td>Manager</td>\n      <td>Generation X (born between 1965-1980)</td>\n      <td>Female</td>\n      <td>10+ years</td>\n      <td>Full time Employee</td>\n      <td>Question 1, Response</td>\n      <td>NaN</td>\n      <td>Question 1</td>\n      <td>119</td>\n      <td>NaN</td>\n    </tr>\n    <tr>\n      <th>...</th>\n      <td>...</td>\n      <td>...</td>\n      <td>...</td>\n      <td>...</td>\n      <td>...</td>\n      <td>...</td>\n      <td>...</td>\n      <td>...</td>\n      <td>...</td>\n      <td>...</td>\n      <td>...</td>\n      <td>...</td>\n      <td>...</td>\n    </tr>\n    <tr>\n      <th>17023</th>\n      <td>7940065082</td>\n      <td>Infrastructure</td>\n      <td>NaN</td>\n      <td>Department Lead</td>\n      <td>Baby Boomer (born between 1946-1964)</td>\n      <td>Male</td>\n      <td>10+ years</td>\n      <td>Full time Employee</td>\n      <td>Question 30, Response 3</td>\n      <td>Answer 8</td>\n      <td>Question 30</td>\n      <td>182</td>\n      <td>14.0</td>\n    </tr>\n    <tr>\n      <th>17024</th>\n      <td>5157705612</td>\n      <td>Finance</td>\n      <td>NaN</td>\n      <td>Staff</td>\n      <td>Millennial (born between 1981-2000)</td>\n      <td>Female</td>\n      <td>5-10 years</td>\n      <td>Full time Employee</td>\n      <td>Question 30, Response 3</td>\n      <td>Answer 6</td>\n      <td>Question 30</td>\n      <td>182</td>\n      <td>20.0</td>\n    </tr>\n    <tr>\n      <th>17025</th>\n      <td>9920755555</td>\n      <td>Port Operations</td>\n      <td>NaN</td>\n      <td>Staff</td>\n      <td>Millennial (born between 1981-2000)</td>\n      <td>Female</td>\n      <td>3-5 years</td>\n      <td>Full time Employee</td>\n      <td>Question 30, Response 3</td>\n      <td>NaN</td>\n      <td>Question 30</td>\n      <td>182</td>\n      <td>NaN</td>\n    </tr>\n    <tr>\n      <th>17026</th>\n      <td>6638341389</td>\n      <td>Infrastructure</td>\n      <td>NaN</td>\n      <td>Manager</td>\n      <td>Millennial (born between 1981-2000)</td>\n      <td>Female</td>\n      <td>3-5 years</td>\n      <td>Full time Employee</td>\n      <td>Question 30, Response 3</td>\n      <td>NaN</td>\n      <td>Question 30</td>\n      <td>182</td>\n      <td>NaN</td>\n    </tr>\n    <tr>\n      <th>17027</th>\n      <td>8114622230</td>\n      <td>Information Technology</td>\n      <td>NaN</td>\n      <td>Staff</td>\n      <td>Prefer not to answer</td>\n      <td>Male</td>\n      <td>5-10 years</td>\n      <td>Full time Employee</td>\n      <td>Question 30, Response 3</td>\n      <td>NaN</td>\n      <td>Question 30</td>\n      <td>182</td>\n      <td>NaN</td>\n    </tr>\n  </tbody>\n</table>\n<p>17028 rows × 13 columns</p>\n</div>"
     },
     "metadata": {},
     "execution_count": 14
    }
   ],
   "source": [
    "#adding the same answer column to the dataframe\n",
    "df_respand_ans = pd.merge(left=df_respand, right=df_ans, how='left', right_on=['Question & Subquestion', 'Answer'], left_on=['Question & Subquestion', 'Answer'])\n",
    "df_respand_ans"
   ]
  },
  {
   "cell_type": "code",
   "execution_count": 15,
   "metadata": {},
   "outputs": [],
   "source": [
    "#cleaning the na values from same answer column\n",
    "df_respand_ans['Same Answer'].fillna(0, inplace=True)"
   ]
  },
  {
   "cell_type": "code",
   "execution_count": 17,
   "metadata": {},
   "outputs": [
    {
     "output_type": "stream",
     "name": "stdout",
     "text": [
      "done\n"
     ]
    }
   ],
   "source": [
    "df_respand_ans.to_excel(pwd + '//data/Survey final outpost.xlsx', index=False)\n",
    "print (\"done\")"
   ]
  },
  {
   "cell_type": "code",
   "execution_count": null,
   "metadata": {},
   "outputs": [],
   "source": []
  }
 ]
}